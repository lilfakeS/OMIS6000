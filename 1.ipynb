{
 "cells": [
  {
   "cell_type": "code",
   "execution_count": 4,
   "metadata": {},
   "outputs": [],
   "source": [
    "\n",
    "from gurobipy import GRB\n",
    "import gurobipy as gb"
   ]
  },
  {
   "cell_type": "code",
   "execution_count": 5,
   "metadata": {},
   "outputs": [
    {
     "name": "stdout",
     "output_type": "stream",
     "text": [
      "Set parameter Username\n",
      "Academic license - for non-commercial use only - expires 2025-01-15\n"
     ]
    },
    {
     "data": {
      "text/plain": [
       "<gurobi.Constr *Awaiting Model Update*>"
      ]
     },
     "execution_count": 5,
     "metadata": {},
     "output_type": "execute_result"
    }
   ],
   "source": [
    "# Create the optimization model\n",
    "model = gb.Model(\"LG Example\")\n",
    "\n",
    "# Create the three classes of decision variables (type A, B, and C)\n",
    "a = model.addVar(lb=0, vtype=GRB.CONTINUOUS, name=\"Type A\")\n",
    "b = model.addVar(lb=0, vtype=GRB.CONTINUOUS, name=\"Type B\")\n",
    "c = model.addVar(lb=0, vtype=GRB.CONTINUOUS, name=\"Type C\")\n",
    "\n",
    "# The objective function\n",
    "model.setObjective(60*a + 75*b + 80*c, GRB.MAXIMIZE)\n",
    "\n",
    "# Add the constraints\n",
    "model.addConstr(2*a + 1.5*b + 3*c <= 10000, \"Assembly Constraint\")\n",
    "model.addConstr(a + 2*b + c <= 5000, \"Package Constraint\")"
   ]
  },
  {
   "cell_type": "code",
   "execution_count": 6,
   "metadata": {},
   "outputs": [
    {
     "name": "stdout",
     "output_type": "stream",
     "text": [
      "Gurobi Optimizer version 11.0.0 build v11.0.0rc2 (mac64[arm] - Darwin 23.1.0 23B92)\n",
      "\n",
      "CPU model: Apple M2\n",
      "Thread count: 8 physical cores, 8 logical processors, using up to 8 threads\n",
      "\n",
      "Optimize a model with 5 rows, 3 columns and 9 nonzeros\n",
      "Model fingerprint: 0x4d176d43\n",
      "Coefficient statistics:\n",
      "  Matrix range     [1e+00, 3e+00]\n",
      "  Objective range  [6e+01, 8e+01]\n",
      "  Bounds range     [0e+00, 0e+00]\n",
      "  RHS range        [9e+02, 1e+04]\n",
      "Presolve removed 3 rows and 0 columns\n",
      "Presolve time: 0.00s\n",
      "Presolved: 2 rows, 3 columns, 6 nonzeros\n",
      "\n",
      "Iteration    Objective       Primal Inf.    Dual Inf.      Time\n",
      "       0    5.0000000e+05   2.208333e+03   0.000000e+00      0s\n",
      "       3    2.9325000e+05   0.000000e+00   0.000000e+00      0s\n",
      "\n",
      "Solved in 3 iterations and 0.01 seconds (0.00 work units)\n",
      "Optimal objective  2.932500000e+05\n"
     ]
    }
   ],
   "source": [
    "# We could also define these constraints as upper bounds in the definition of the decision variables\n",
    "model.addConstr(a <= 3000, \"Order Limit Constraint (Type A)\")\n",
    "model.addConstr(b <= 2000, \"Order Limit Constraint (Type B)\")\n",
    "model.addConstr(c <= 900, \"Order Limit Constraint (Type C)\")\n",
    "    \n",
    "# Optimally solve the problem\n",
    "model.optimize()"
   ]
  },
  {
   "cell_type": "code",
   "execution_count": 7,
   "metadata": {},
   "outputs": [
    {
     "name": "stdout",
     "output_type": "stream",
     "text": [
      "Number of Decision Variables:  3\n",
      "Model Status:  2\n",
      "293250.0\n",
      "\n",
      "    Variable            X \n",
      "-------------------------\n",
      "      Type A         3000 \n",
      "      Type B          550 \n",
      "      Type C          900 \n",
      "None\n"
     ]
    }
   ],
   "source": [
    "# Number of variables in the model\n",
    "print(\"Number of Decision Variables: \", model.numVars)\n",
    "\n",
    "# The status of the model (Optimization Status Codes)\n",
    "print(\"Model Status: \", model.status)\n",
    "\n",
    "# Print the objective\n",
    "print(model.ObjVal)\n",
    "\n",
    "# Print the decision variables\n",
    "print(model.printAttr('X'))"
   ]
  },
  {
   "cell_type": "code",
   "execution_count": null,
   "metadata": {},
   "outputs": [],
   "source": []
  },
  {
   "cell_type": "code",
   "execution_count": 1,
   "metadata": {},
   "outputs": [
    {
     "name": "stdout",
     "output_type": "stream",
     "text": [
      "Collecting sympy\n",
      "  Using cached sympy-1.12-py3-none-any.whl.metadata (12 kB)\n",
      "Collecting mpmath>=0.19 (from sympy)\n",
      "  Using cached mpmath-1.3.0-py3-none-any.whl.metadata (8.6 kB)\n",
      "Using cached sympy-1.12-py3-none-any.whl (5.7 MB)\n",
      "Using cached mpmath-1.3.0-py3-none-any.whl (536 kB)\n",
      "Installing collected packages: mpmath, sympy\n",
      "Successfully installed mpmath-1.3.0 sympy-1.12\n",
      "Note: you may need to restart the kernel to use updated packages.\n"
     ]
    }
   ],
   "source": [
    "pip install sympy"
   ]
  }
 ],
 "metadata": {
  "kernelspec": {
   "display_name": "Python 3",
   "language": "python",
   "name": "python3"
  },
  "language_info": {
   "codemirror_mode": {
    "name": "ipython",
    "version": 3
   },
   "file_extension": ".py",
   "mimetype": "text/x-python",
   "name": "python",
   "nbconvert_exporter": "python",
   "pygments_lexer": "ipython3",
   "version": "3.11.6"
  }
 },
 "nbformat": 4,
 "nbformat_minor": 2
}
