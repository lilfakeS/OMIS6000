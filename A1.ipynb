{
 "cells": [
  {
   "cell_type": "code",
   "execution_count": 11,
   "metadata": {},
   "outputs": [
    {
     "name": "stderr",
     "output_type": "stream",
     "text": [
      "/var/folders/jh/lwh9h51151s6_693cw5_28cr0000gn/T/ipykernel_24522/1165626401.py:1: DeprecationWarning: \n",
      "Pyarrow will become a required dependency of pandas in the next major release of pandas (pandas 3.0),\n",
      "(to allow more performant data types, such as the Arrow string type, and better interoperability with other libraries)\n",
      "but was not found to be installed on your system.\n",
      "If this would cause problems for you,\n",
      "please provide us feedback at https://github.com/pandas-dev/pandas/issues/54466\n",
      "        \n",
      "  import pandas as pd\n"
     ]
    }
   ],
   "source": [
    "import pandas as pd\n",
    "from gurobipy import GRB\n",
    "import gurobipy as gb"
   ]
  },
  {
   "cell_type": "code",
   "execution_count": 16,
   "metadata": {},
   "outputs": [],
   "source": [
    "# Path to your Excel file\n",
    "file_path = 'path_to_your_excel_file.xlsx'\n",
    "\n",
    "# To read all sheets into a dictionary of DataFrames\n",
    "data = pd.read_excel(\"/Users/justinsheng/Downloads/A1 combine.xlsx\", sheet_name=None)\n"
   ]
  },
  {
   "cell_type": "code",
   "execution_count": 18,
   "metadata": {},
   "outputs": [],
   "source": [
    "# Data extraction from the provided dataframes\n",
    "# Direct production capacity\n",
    "direct_capacity = data['Capacity_for_Direct_Production_'].set_index('ProductionFacility')['Capacity'].to_dict()\n",
    "# Transshipment production capacity\n",
    "transship_capacity = data['Capacity_for_Transship_Producti'].set_index('ProductionFacility')['Capacity'].to_dict()\n",
    "# Distribution center capacities\n",
    "dist_center_capacity = data['Capacity_for_Transship_Distribu'].set_index('TransshipmentHub')['Capacity'].to_dict()\n",
    "# Direct shipment costs\n",
    "cost_direct = data['Cost_Production_to_Refinement'].set_index(['ProductionFacility', 'RefinementCenter'])['Cost'].to_dict()\n",
    "# Transshipment costs\n",
    "cost_transship = data['Cost_Transshipment_to_Refinemen'].set_index(['TransshipmentHub', 'RefinementCenter'])['Cost'].to_dict()\n",
    "# Demand at refinement centers\n",
    "demand = data['Refinement_Demand'].set_index('RefinementCenter')['Demand'].to_dict()"
   ]
  },
  {
   "cell_type": "code",
   "execution_count": 19,
   "metadata": {},
   "outputs": [
    {
     "name": "stdout",
     "output_type": "stream",
     "text": [
      "Set parameter Username\n",
      "Academic license - for non-commercial use only - expires 2025-01-15\n"
     ]
    }
   ],
   "source": [
    "# Create the optimization model\n",
    "model = gb.Model(\"Can2Oil Optimization\")"
   ]
  },
  {
   "cell_type": "code",
   "execution_count": 24,
   "metadata": {},
   "outputs": [],
   "source": [
    "# Create decision variables for direct shipments\n",
    "x = model.addVars(25, 5, lb=0, vtype=GRB.CONTINUOUS, name=\"Direct_Shipment\")\n",
    "\n",
    "# Create decision variables for transshipment\n",
    "y = model.addVars(15, 2, 5, lb=0, vtype=GRB.CONTINUOUS, name=\"Transshipment\")"
   ]
  },
  {
   "cell_type": "code",
   "execution_count": 25,
   "metadata": {},
   "outputs": [],
   "source": [
    "# The objective function\n",
    "direct_objective = gb.quicksum(cost_direct[i+1, j+1]*x[i, j] for i in range(25) for j in range(5))\n",
    "trans_objective = gb.quicksum(cost_transship[j+1, k+1]*y[i, j, k] for i in range(15) for j in range(2) for k in range(5))\n",
    "model.setObjective(direct_objective + trans_objective, GRB.MINIMIZE)"
   ]
  },
  {
   "cell_type": "code",
   "execution_count": 28,
   "metadata": {},
   "outputs": [],
   "source": [
    "# Add supply constraints for direct shipments\n",
    "for i in range(25):\n",
    "    model.addConstr(gb.quicksum(x[i, j] for j in range(5)) <= direct_capacity[i+1], name=f\"Direct_Supply_Constraint_{i+1}\")\n",
    "\n",
    "# Add supply constraints for transshipment production\n",
    "for i in range(15):\n",
    "    model.addConstr(gb.quicksum(y[i, j, k] for j in range(2) for k in range(5)) <= transship_capacity[i+1], name=f\"Transship_Supply_Constraint_{i+1}\")\n",
    "\n",
    "# Add capacity constraints for distribution centers\n",
    "for j in range(2):\n",
    "    model.addConstr(gb.quicksum(y[i, j, k] for i in range(15) for k in range(5)) <= dist_center_capacity[j+1], name=f\"Dist_Center_Capacity_{j+1}\")\n",
    "\n",
    "# Add demand constraints\n",
    "for k in range(5):\n",
    "    model.addConstr(gb.quicksum(x[i, k] for i in range(25)) + gb.quicksum(y[i, j, k] for i in range(15) for j in range(2)) >= demand[k+1], name=f\"Demand_Constraint_{k+1}\")"
   ]
  },
  {
   "cell_type": "code",
   "execution_count": 29,
   "metadata": {},
   "outputs": [
    {
     "name": "stdout",
     "output_type": "stream",
     "text": [
      "Gurobi Optimizer version 11.0.0 build v11.0.0rc2 (mac64[arm] - Darwin 23.2.0 23C71)\n",
      "\n",
      "CPU model: Apple M2\n",
      "Thread count: 8 physical cores, 8 logical processors, using up to 8 threads\n",
      "\n",
      "Optimize a model with 122 rows, 550 columns and 1075 nonzeros\n",
      "Model fingerprint: 0xb87f372a\n",
      "Coefficient statistics:\n",
      "  Matrix range     [1e+00, 1e+00]\n",
      "  Objective range  [2e+00, 6e+00]\n",
      "  Bounds range     [0e+00, 0e+00]\n",
      "  RHS range        [1e+02, 2e+03]\n",
      "Presolve removed 75 rows and 275 columns\n",
      "Presolve time: 0.01s\n",
      "Presolved: 47 rows, 275 columns, 700 nonzeros\n",
      "\n",
      "Iteration    Objective       Primal Inf.    Dual Inf.      Time\n",
      "       0    0.0000000e+00   1.091000e+03   0.000000e+00      0s\n",
      "      65    2.2094007e+04   0.000000e+00   0.000000e+00      0s\n",
      "\n",
      "Solved in 65 iterations and 0.01 seconds (0.00 work units)\n",
      "Optimal objective  2.209400717e+04\n"
     ]
    }
   ],
   "source": [
    "# Solve the model\n",
    "model.optimize()"
   ]
  },
  {
   "cell_type": "code",
   "execution_count": 30,
   "metadata": {},
   "outputs": [
    {
     "name": "stdout",
     "output_type": "stream",
     "text": [
      "Optimal solution found.\n",
      "Total Cost: 22094.007167574564\n",
      "Direct Shipment Quantities:\n",
      "From Production Facility 1 to Refinement Center 4: 462.0 million pounds\n",
      "From Production Facility 2 to Refinement Center 2: 103.0 million pounds\n",
      "From Production Facility 3 to Refinement Center 3: 460.0 million pounds\n",
      "From Production Facility 5 to Refinement Center 4: 86.0 million pounds\n",
      "From Production Facility 6 to Refinement Center 2: 217.0 million pounds\n",
      "From Production Facility 8 to Refinement Center 5: 521.0 million pounds\n",
      "From Production Facility 9 to Refinement Center 5: 548.0 million pounds\n",
      "From Production Facility 11 to Refinement Center 5: 354.0 million pounds\n",
      "From Production Facility 12 to Refinement Center 1: 7.0 million pounds\n",
      "From Production Facility 12 to Refinement Center 3: 404.0 million pounds\n",
      "From Production Facility 13 to Refinement Center 1: 104.0 million pounds\n",
      "From Production Facility 14 to Refinement Center 5: 155.0 million pounds\n",
      "From Production Facility 15 to Refinement Center 4: 285.0 million pounds\n",
      "From Production Facility 16 to Refinement Center 1: 109.0 million pounds\n",
      "From Production Facility 18 to Refinement Center 2: 351.0 million pounds\n",
      "From Production Facility 18 to Refinement Center 5: 87.0 million pounds\n",
      "From Production Facility 19 to Refinement Center 4: 501.0 million pounds\n",
      "From Production Facility 21 to Refinement Center 3: 462.0 million pounds\n",
      "From Production Facility 22 to Refinement Center 4: 504.0 million pounds\n",
      "From Production Facility 23 to Refinement Center 2: 106.0 million pounds\n",
      "From Production Facility 24 to Refinement Center 3: 132.0 million pounds\n",
      "\n",
      "Transshipment Quantities:\n",
      "From Production Facility 26 through Transshipment Hub 2 to Refinement Center 3: 374.0 million pounds\n",
      "From Production Facility 27 through Transshipment Hub 1 to Refinement Center 1: 211.0 million pounds\n",
      "From Production Facility 27 through Transshipment Hub 2 to Refinement Center 2: 233.0 million pounds\n",
      "From Production Facility 28 through Transshipment Hub 1 to Refinement Center 1: 139.0 million pounds\n",
      "From Production Facility 29 through Transshipment Hub 1 to Refinement Center 1: 245.0 million pounds\n",
      "From Production Facility 30 through Transshipment Hub 1 to Refinement Center 1: 378.0 million pounds\n",
      "From Production Facility 33 through Transshipment Hub 1 to Refinement Center 1: 175.0 million pounds\n",
      "From Production Facility 36 through Transshipment Hub 2 to Refinement Center 2: 184.0 million pounds\n",
      "From Production Facility 37 through Transshipment Hub 2 to Refinement Center 2: 297.0 million pounds\n",
      "From Production Facility 39 through Transshipment Hub 1 to Refinement Center 1: 169.0 million pounds\n",
      "From Production Facility 40 through Transshipment Hub 2 to Refinement Center 2: 257.0 million pounds\n",
      "From Production Facility 40 through Transshipment Hub 2 to Refinement Center 3: 108.0 million pounds\n"
     ]
    }
   ],
   "source": [
    "# Print the results\n",
    "if model.status == GRB.OPTIMAL:\n",
    "    print(\"Optimal solution found.\")\n",
    "    print(f\"Total Cost: {model.objVal}\")\n",
    "    print(\"Direct Shipment Quantities:\")\n",
    "    for i in range(25):\n",
    "        for j in range(5):\n",
    "            if x[i, j].x > 0:\n",
    "                print(f\"From Production Facility {i+1} to Refinement Center {j+1}: {x[i, j].x} million pounds\")\n",
    "\n",
    "    print(\"\\nTransshipment Quantities:\")\n",
    "    for i in range(15):\n",
    "        for j in range(2):\n",
    "            for k in range(5):\n",
    "                if y[i, j, k].x > 0:\n",
    "                    print(f\"From Production Facility {i+26} through Transshipment Hub {j+1} to Refinement Center {k+1}: {y[i, j, k].x} million pounds\")\n",
    "else:\n",
    "    print(\"Optimal solution not found.\")"
   ]
  }
 ],
 "metadata": {
  "kernelspec": {
   "display_name": "Python 3",
   "language": "python",
   "name": "python3"
  },
  "language_info": {
   "codemirror_mode": {
    "name": "ipython",
    "version": 3
   },
   "file_extension": ".py",
   "mimetype": "text/x-python",
   "name": "python",
   "nbconvert_exporter": "python",
   "pygments_lexer": "ipython3",
   "version": "3.11.6"
  }
 },
 "nbformat": 4,
 "nbformat_minor": 2
}
